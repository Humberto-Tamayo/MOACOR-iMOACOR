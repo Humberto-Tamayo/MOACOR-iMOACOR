{
  "cells": [
    {
      "cell_type": "code",
      "execution_count": null,
      "metadata": {
        "colab": {
          "base_uri": "https://localhost:8080/"
        },
        "id": "NmaLOB7b-XQ8",
        "outputId": "04dadde8-fb2f-46b2-df77-f05c3e85b531"
      },
      "outputs": [
        {
          "output_type": "stream",
          "name": "stdout",
          "text": [
            "Mounted at drive\n"
          ]
        }
      ],
      "source": [
        "from google.colab import drive\n",
        "drive.mount('drive')"
      ],
      "id": "NmaLOB7b-XQ8"
    },
    {
      "cell_type": "code",
      "execution_count": null,
      "metadata": {
        "id": "67549c24-583e-417e-8136-ae03c5e54caf"
      },
      "outputs": [],
      "source": [
        "#%matplotlib qt\n",
        "\n",
        "import os\n",
        "os.chdir('/content/drive/MyDrive/New_MOACOR/')\n",
        "cwd= os.getcwd()\n",
        "\n",
        "%run moacor_functions"
      ],
      "id": "67549c24-583e-417e-8136-ae03c5e54caf"
    },
    {
      "cell_type": "code",
      "execution_count": null,
      "metadata": {
        "colab": {
          "base_uri": "https://localhost:8080/"
        },
        "id": "kDaJLo4ima0b",
        "outputId": "203003d2-95a9-49b8-f436-ea78fd8566fb"
      },
      "outputs": [
        {
          "output_type": "stream",
          "name": "stdout",
          "text": [
            "Collecting pymoo\n",
            "  Downloading pymoo-0.6.1.1-cp310-cp310-manylinux_2_17_x86_64.manylinux2014_x86_64.whl (4.1 MB)\n",
            "\u001b[2K     \u001b[90m━━━━━━━━━━━━━━━━━━━━━━━━━━━━━━━━━━━━━━━━\u001b[0m \u001b[32m4.1/4.1 MB\u001b[0m \u001b[31m14.5 MB/s\u001b[0m eta \u001b[36m0:00:00\u001b[0m\n",
            "\u001b[?25hRequirement already satisfied: numpy>=1.15 in /usr/local/lib/python3.10/dist-packages (from pymoo) (1.23.5)\n",
            "Requirement already satisfied: scipy>=1.1 in /usr/local/lib/python3.10/dist-packages (from pymoo) (1.11.4)\n",
            "Requirement already satisfied: matplotlib>=3 in /usr/local/lib/python3.10/dist-packages (from pymoo) (3.7.1)\n",
            "Requirement already satisfied: autograd>=1.4 in /usr/local/lib/python3.10/dist-packages (from pymoo) (1.6.2)\n",
            "Collecting cma==3.2.2 (from pymoo)\n",
            "  Downloading cma-3.2.2-py2.py3-none-any.whl (249 kB)\n",
            "\u001b[2K     \u001b[90m━━━━━━━━━━━━━━━━━━━━━━━━━━━━━━━━━━━━━━━━\u001b[0m \u001b[32m249.1/249.1 kB\u001b[0m \u001b[31m26.3 MB/s\u001b[0m eta \u001b[36m0:00:00\u001b[0m\n",
            "\u001b[?25hCollecting alive-progress (from pymoo)\n",
            "  Downloading alive_progress-3.1.5-py3-none-any.whl (75 kB)\n",
            "\u001b[2K     \u001b[90m━━━━━━━━━━━━━━━━━━━━━━━━━━━━━━━━━━━━━━━━\u001b[0m \u001b[32m76.0/76.0 kB\u001b[0m \u001b[31m10.8 MB/s\u001b[0m eta \u001b[36m0:00:00\u001b[0m\n",
            "\u001b[?25hCollecting dill (from pymoo)\n",
            "  Downloading dill-0.3.7-py3-none-any.whl (115 kB)\n",
            "\u001b[2K     \u001b[90m━━━━━━━━━━━━━━━━━━━━━━━━━━━━━━━━━━━━━━━━\u001b[0m \u001b[32m115.3/115.3 kB\u001b[0m \u001b[31m16.0 MB/s\u001b[0m eta \u001b[36m0:00:00\u001b[0m\n",
            "\u001b[?25hCollecting Deprecated (from pymoo)\n",
            "  Downloading Deprecated-1.2.14-py2.py3-none-any.whl (9.6 kB)\n",
            "Requirement already satisfied: future>=0.15.2 in /usr/local/lib/python3.10/dist-packages (from autograd>=1.4->pymoo) (0.18.3)\n",
            "Requirement already satisfied: contourpy>=1.0.1 in /usr/local/lib/python3.10/dist-packages (from matplotlib>=3->pymoo) (1.2.0)\n",
            "Requirement already satisfied: cycler>=0.10 in /usr/local/lib/python3.10/dist-packages (from matplotlib>=3->pymoo) (0.12.1)\n",
            "Requirement already satisfied: fonttools>=4.22.0 in /usr/local/lib/python3.10/dist-packages (from matplotlib>=3->pymoo) (4.47.2)\n",
            "Requirement already satisfied: kiwisolver>=1.0.1 in /usr/local/lib/python3.10/dist-packages (from matplotlib>=3->pymoo) (1.4.5)\n",
            "Requirement already satisfied: packaging>=20.0 in /usr/local/lib/python3.10/dist-packages (from matplotlib>=3->pymoo) (23.2)\n",
            "Requirement already satisfied: pillow>=6.2.0 in /usr/local/lib/python3.10/dist-packages (from matplotlib>=3->pymoo) (9.4.0)\n",
            "Requirement already satisfied: pyparsing>=2.3.1 in /usr/local/lib/python3.10/dist-packages (from matplotlib>=3->pymoo) (3.1.1)\n",
            "Requirement already satisfied: python-dateutil>=2.7 in /usr/local/lib/python3.10/dist-packages (from matplotlib>=3->pymoo) (2.8.2)\n",
            "Collecting about-time==4.2.1 (from alive-progress->pymoo)\n",
            "  Downloading about_time-4.2.1-py3-none-any.whl (13 kB)\n",
            "Collecting grapheme==0.6.0 (from alive-progress->pymoo)\n",
            "  Downloading grapheme-0.6.0.tar.gz (207 kB)\n",
            "\u001b[2K     \u001b[90m━━━━━━━━━━━━━━━━━━━━━━━━━━━━━━━━━━━━━━━━\u001b[0m \u001b[32m207.3/207.3 kB\u001b[0m \u001b[31m22.9 MB/s\u001b[0m eta \u001b[36m0:00:00\u001b[0m\n",
            "\u001b[?25h  Preparing metadata (setup.py) ... \u001b[?25l\u001b[?25hdone\n",
            "Requirement already satisfied: wrapt<2,>=1.10 in /usr/local/lib/python3.10/dist-packages (from Deprecated->pymoo) (1.14.1)\n",
            "Requirement already satisfied: six>=1.5 in /usr/local/lib/python3.10/dist-packages (from python-dateutil>=2.7->matplotlib>=3->pymoo) (1.16.0)\n",
            "Building wheels for collected packages: grapheme\n",
            "  Building wheel for grapheme (setup.py) ... \u001b[?25l\u001b[?25hdone\n",
            "  Created wheel for grapheme: filename=grapheme-0.6.0-py3-none-any.whl size=210078 sha256=a8c0cd4df466d0f37cc43c06a1497f0726a265ec8818cad55b7edcd2581469eb\n",
            "  Stored in directory: /root/.cache/pip/wheels/01/e1/49/37e6bde9886439057450c494a79b0bef8bbe897a54aebfc757\n",
            "Successfully built grapheme\n",
            "Installing collected packages: grapheme, dill, Deprecated, cma, about-time, alive-progress, pymoo\n",
            "Successfully installed Deprecated-1.2.14 about-time-4.2.1 alive-progress-3.1.5 cma-3.2.2 dill-0.3.7 grapheme-0.6.0 pymoo-0.6.1.1\n"
          ]
        }
      ],
      "source": [
        "pip install -U pymoo"
      ],
      "id": "kDaJLo4ima0b"
    },
    {
      "cell_type": "code",
      "execution_count": null,
      "metadata": {
        "id": "kmfYYAKmmYdn"
      },
      "outputs": [],
      "source": [
        "import numpy as np\n",
        "import pandas as pd\n",
        "import numpy.matlib\n",
        "import itertools\n",
        "import math\n",
        "import sys\n",
        "\n",
        "import matplotlib.pyplot as plt\n",
        "import numpy as np\n",
        "from datetime import datetime\n",
        "\n",
        "from mpl_toolkits.mplot3d import axes3d\n",
        "\n",
        "import plotly.graph_objects as go\n",
        "\n",
        "from pymoo.problems import get_problem\n",
        "from pymoo.util.ref_dirs import get_reference_directions\n",
        "\n",
        "from pymoo.indicators.igd_plus import IGDPlus\n",
        "from pymoo.indicators.igd import IGD\n",
        "from pymoo.indicators.hv import HV\n",
        "\n",
        "from IPython.display import clear_output\n",
        "from mpl_toolkits.mplot3d import axes3d\n",
        "from pandas.plotting import parallel_coordinates\n",
        "\n",
        "import time"
      ],
      "id": "kmfYYAKmmYdn"
    },
    {
      "cell_type": "code",
      "execution_count": null,
      "metadata": {
        "id": "0EAJ4Wf-0hZt"
      },
      "outputs": [],
      "source": [
        "# Plot the points in 3 dimensions.\n",
        "def plot_3d(points, title):\n",
        "    x, y, z = zip(*points)\n",
        "    fig = plt.figure(figsize=(2,2))\n",
        "    ax = fig.add_subplot(111, projection='3d')\n",
        "    ax.scatter(x,y,z)\n",
        "    ax.set_xlabel(\"f1\")\n",
        "    ax.set_ylabel(\"f2\")\n",
        "    ax.set_zlabel(\"f3\")\n",
        "    ax.set_title(title)\n",
        "    ax.view_init(45, 45, 0)\n",
        "    plt.show()\n",
        "\n",
        "# Plot the points in 3 dimensions.\n",
        "def plot_2d(points, title):\n",
        "    x, y = zip(*points)\n",
        "    fig = plt.figure(figsize=(2,2))\n",
        "    ax = fig.add_subplot(111)\n",
        "    ax.scatter(x,y)\n",
        "    ax.set_xlabel(\"f1\")\n",
        "    ax.set_ylabel(\"f2\")\n",
        "    ax.set_title(title)\n",
        "    plt.show()\n",
        "\n",
        "# Plot the parallel coordinates.\n",
        "def parallel_plot(points,title):\n",
        "    final_evals_df = pd.DataFrame(points)\n",
        "    final_evals_df['Color'] = 1\n",
        "    plt.figure(figsize=(4, 2))\n",
        "    parallel_coordinates(final_evals_df,'Color', colormap='viridis', linewidth=1)\n",
        "    plt.title(title)\n",
        "    plt.xlabel('Objective')\n",
        "    plt.ylabel('Evaluation')\n",
        "    plt.show()"
      ],
      "id": "0EAJ4Wf-0hZt"
    },
    {
      "cell_type": "code",
      "execution_count": null,
      "metadata": {
        "id": "f0045c51-5231-4efc-a51c-c3449df0ded2"
      },
      "outputs": [],
      "source": [
        "def SLD(N, m, inverted):\n",
        "    \"\"\"Generates approximately N uniformly distributed points using the Simplex-Lattice Design with two layers\"\"\"\n",
        "    H1 = 1\n",
        "    while (math.comb(H1+m, m-1) <= N):\n",
        "        H1 += 1\n",
        "    W = nchoosek(list(range(1, H1+m)), m-1)-np.matlib.repmat(np.arange(0, m-1), math.comb(H1+m-1, m-1), 1)-1\n",
        "    W = (np.hstack((W, np.zeros([len(W), 1])+H1))-np.hstack((np.zeros([len(W), 1]), W)))/H1\n",
        "    if (H1 < m):\n",
        "        H2 = 0\n",
        "        while (math.comb(H1+m-1, m-1)+math.comb(H2+m, m-1) <= N):\n",
        "            H2 += 1\n",
        "        if (H2 > 0):\n",
        "            print(\"m = {0} H1 = {1} H2 = {2}\\n\".format(m, H1, H2))\n",
        "            W2 = nchoosek(list(range(1, H2+m)), m-1)-np.matlib.repmat(np.arange(0, m-1), math.comb(H2+m-1, m-1), 1)-1\n",
        "            W2 = (np.hstack((W2, np.zeros([len(W2), 1])+H2))-np.hstack((np.zeros([len(W2), 1]), W2)))/H2\n",
        "            W2 = W2/2+1/(2*m)\n",
        "            W = np.vstack((W, W2))\n",
        "        #print(\"m = {0} H1 = {1} H2 = {2}\\n\".format(m, H1, H2))\n",
        "    else:\n",
        "        #print(\"m = {0} H1 = {1}\\n\".format(m, H1))\n",
        "        variable_to_not_cause_error = 0\n",
        "    N = len(W)\n",
        "    if not inverted:\n",
        "        return W\n",
        "        #np.savetxt('output/SLD'+'_{0:0=2d}D'.format(m)+'_'+str(N)+'.pof', W, '%.6f', header=str(N)+' '+str(m))\n",
        "    else:\n",
        "        return (-W+1)\n",
        "        #np.savetxt('output/INV_SLD'+'_{0:0=2d}D'.format(m)+'_'+str(N)+'.pof', -W + 1, '%.6f', header=str(N)+' '+str(m))\n",
        "    return\n",
        "\n",
        "def nchoosek(v, k):\n",
        "    \"\"\"Returns a matrix with all combinations of v taken k at a time\"\"\"\n",
        "    return np.array(list(itertools.combinations(v, k)))"
      ],
      "id": "f0045c51-5231-4efc-a51c-c3449df0ded2"
    },
    {
      "cell_type": "code",
      "execution_count": null,
      "metadata": {
        "id": "418773f0-56b3-4460-93e7-1fe7ea33c585"
      },
      "outputs": [],
      "source": [
        "def u_asf(v,ideal,w):\n",
        "    m = len(v)\n",
        "    a = []\n",
        "    for i in range(m):\n",
        "        b = (1/w[i])*np.absolute(v[i]-ideal[i])\n",
        "        a.append(b)\n",
        "    return max(a)"
      ],
      "id": "418773f0-56b3-4460-93e7-1fe7ea33c585"
    },
    {
      "cell_type": "code",
      "execution_count": null,
      "metadata": {
        "id": "8216cc80-f75d-4546-a082-26b71f7731bb"
      },
      "outputs": [],
      "source": [
        "def infinite_array(n):\n",
        "    return np.full(n, np.inf)"
      ],
      "id": "8216cc80-f75d-4546-a082-26b71f7731bb"
    },
    {
      "cell_type": "code",
      "execution_count": null,
      "metadata": {
        "id": "a294c828-45bb-4a00-8d43-8ededc024713"
      },
      "outputs": [],
      "source": [
        "def ideal_vector(matrix):\n",
        "    num_cols = len(matrix[0])\n",
        "    min_vals = [float('inf')] * num_cols\n",
        "    for col_idx in range(num_cols):\n",
        "        for row_idx in range(len(matrix)):\n",
        "            if matrix[row_idx][col_idx] < min_vals[col_idx]:\n",
        "                min_vals[col_idx] = matrix[row_idx][col_idx]\n",
        "    return min_vals"
      ],
      "id": "a294c828-45bb-4a00-8d43-8ededc024713"
    },
    {
      "cell_type": "code",
      "execution_count": null,
      "metadata": {
        "id": "932fd32a-8c17-43b1-9a09-1df140f18801"
      },
      "outputs": [],
      "source": [
        "def nadir_vector(matrix):\n",
        "    num_cols = len(matrix[0])\n",
        "    max_vals = [-float('inf')] * num_cols\n",
        "    for col_idx in range(num_cols):\n",
        "        for row_idx in range(len(matrix)):\n",
        "            if matrix[row_idx][col_idx] > max_vals[col_idx]:\n",
        "                max_vals[col_idx] = matrix[row_idx][col_idx]\n",
        "    return max_vals"
      ],
      "id": "932fd32a-8c17-43b1-9a09-1df140f18801"
    },
    {
      "cell_type": "code",
      "execution_count": null,
      "metadata": {
        "id": "4e67104e-733e-4199-8f7f-82cf58ef6239"
      },
      "outputs": [],
      "source": [
        "def l2_norm_func(a,n_vars,n_funcs):\n",
        "    l2_norm = infinite_array(a.shape[0])\n",
        "    counter = 0\n",
        "    for b in a:\n",
        "        sum_sqrt = 0\n",
        "        for i in range(n_funcs):\n",
        "            sum_sqrt = sum_sqrt + b[n_vars+i]**2\n",
        "        l2_norm[counter] = sum_sqrt**0.5\n",
        "        counter = counter + 1\n",
        "    return(l2_norm)"
      ],
      "id": "4e67104e-733e-4199-8f7f-82cf58ef6239"
    },
    {
      "cell_type": "code",
      "execution_count": null,
      "metadata": {
        "id": "ae5f0809-8bf7-4cfd-8554-972e0cb76d2b"
      },
      "outputs": [],
      "source": [
        "def normalize(archive,ideal,nadir,n_vars,n_funcs):\n",
        "    for i in range(n_funcs):\n",
        "            new_column = infinite_array(archive.shape[0])\n",
        "            new_column = new_column.reshape(-1, 1)\n",
        "            archive = np.concatenate((archive,new_column), axis=1)\n",
        "\n",
        "    count = 0\n",
        "    for p in archive:\n",
        "        for i in range(n_funcs):\n",
        "            a = (p[i+n_vars]-ideal[i])/(nadir[i]-ideal[i])\n",
        "            archive[count,n_vars+n_funcs+i] = a\n",
        "        count = count + 1\n",
        "    return archive"
      ],
      "id": "ae5f0809-8bf7-4cfd-8554-972e0cb76d2b"
    },
    {
      "cell_type": "code",
      "execution_count": null,
      "metadata": {
        "id": "46021c03-a7f3-44ca-945d-ff9a49600551"
      },
      "outputs": [],
      "source": [
        "def ranking2(archive,weight_vectors,n_vars,n_funcs,ideal):\n",
        "    zeros_array = np.zeros(n_funcs)\n",
        "    p_rank = infinite_array(archive.shape[0])\n",
        "    p_rank = p_rank.reshape(-1, 1)\n",
        "    archive_1 = np.concatenate((archive,p_rank,p_rank,p_rank,p_rank), axis=1) #p_rank +0,p_alpha +1,l2_norm +2, p_utility +3\n",
        "\n",
        "    for w in weight_vectors:\n",
        "\n",
        "        p_alpha = []\n",
        "\n",
        "        for p in archive_1:\n",
        "            p_alpha.append(u_asf(p[n_vars+n_funcs:n_vars+2*n_funcs],zeros_array,w))\n",
        "        archive_1[:,n_vars+2*n_funcs+1] = p_alpha\n",
        "\n",
        "        l2_norm = l2_norm_func(archive_1,n_vars,n_funcs)\n",
        "        archive_1[:,n_vars+2*n_funcs+2] = l2_norm\n",
        "\n",
        "        archive_1 = archive_1[np.argsort(archive_1[:,n_vars+2*n_funcs+2])] # Sort with l2 norm\n",
        "        archive_1 = archive_1[np.argsort(archive_1[:,n_vars+2*n_funcs+1])] # Sort with alpha values\n",
        "\n",
        "        rank = 1\n",
        "\n",
        "        for i in range(archive_1.shape[0]):\n",
        "            if rank < archive_1[i][n_vars+2*n_funcs]:\n",
        "                archive_1[i][n_vars+2*n_funcs] = rank\n",
        "                archive_1[i][n_vars+2*n_funcs+3] = archive_1[i][n_vars+2*n_funcs+1]\n",
        "            rank = rank + 1\n",
        "\n",
        "    return archive_1"
      ],
      "id": "46021c03-a7f3-44ca-945d-ff9a49600551"
    },
    {
      "cell_type": "code",
      "execution_count": null,
      "metadata": {
        "id": "a7583307-5d40-4ea6-8d7c-754a8301a7ac"
      },
      "outputs": [],
      "source": [
        "def update_reference_points(population,z_min,z_max,n_funcs,n_vars):\n",
        "    global record\n",
        "    ideal = ideal_vector(population[:,n_vars:n_vars+n_funcs])\n",
        "    nadir = nadir_vector(population[:,n_vars:n_vars+n_funcs])\n",
        "    z_min = np.minimum(ideal,z_min)\n",
        "    record = np.vstack((record,z_min))\n",
        "    if record.shape[0] > 5:\n",
        "        record = np.delete(record,0,0)\n",
        "    variance_vector = np.var(record, axis=0)\n",
        "    if np.max(variance_vector) > 0.5:\n",
        "        z_max = nadir\n",
        "    else:\n",
        "        for i in range(n_funcs):\n",
        "            if np.absolute(z_max[i]-z_min[i]) < 0.001:\n",
        "                z_max[i] = np.max(z_max)\n",
        "                # 11 mark z_max[i]\n",
        "            elif nadir[i] > z_max[i]:\n",
        "                z_max[i] = 2*nadir[i]-z_max[i]\n",
        "                # 14 mark z_max[i]\n",
        "            elif variance_vector[i] == 0:\n",
        "                a = np.max(nadir)\n",
        "                z_max[i] = (z_max[i] + a)/2\n",
        "                # mark z_max\n",
        "    return z_min,z_max"
      ],
      "id": "a7583307-5d40-4ea6-8d7c-754a8301a7ac"
    },
    {
      "cell_type": "code",
      "execution_count": null,
      "metadata": {
        "id": "_CFUsVQilrcP"
      },
      "outputs": [],
      "source": [
        "def evaluate_function(problem, sols_to_eval, n_funcs, n_vars, inverted_flag):\n",
        "    if (\"DTLZ\" in problem):\n",
        "        ref_dirs = get_reference_directions(\"das-dennis\", n_funcs, n_partitions=12)\n",
        "        problem_pymoo = get_problem(problem, n_var=n_vars, n_obj=n_funcs)\n",
        "        evaluations = problem_pymoo.evaluate(sols_to_eval)\n",
        "    elif (\"WFG\" in problem):\n",
        "        k_var = ( n_funcs - 1 ) * 2\n",
        "        if n_funcs < 3:\n",
        "            k_var = 4\n",
        "        ref_dirs = get_reference_directions(\"das-dennis\", n_funcs, n_partitions=12)\n",
        "        problem_pymoo = get_problem(problem, n_var=n_vars, n_obj=n_funcs, k=k_var)\n",
        "        evaluations = problem_pymoo.evaluate(sols_to_eval)\n",
        "    else:\n",
        "        evaluations = evaluate_solutions(sols_to_eval, n_funcs, problem, n_vars)\n",
        "    if (inverted_flag):\n",
        "        evaluations = -1 * evaluations\n",
        "    return evaluations"
      ],
      "id": "_CFUsVQilrcP"
    },
    {
      "cell_type": "code",
      "execution_count": null,
      "metadata": {
        "colab": {
          "base_uri": "https://localhost:8080/",
          "height": 871
        },
        "id": "04fccd8c-f634-4d8a-8dc6-ff4b2c490bcb",
        "outputId": "468bcd00-8e12-4129-b68d-bf10b8067c00"
      },
      "outputs": [
        {
          "output_type": "stream",
          "name": "stdout",
          "text": [
            "All good to start, validation complete\n",
            "Total experiments:  32\n",
            "210\n",
            "Experiment Completed:  31\n",
            "Elapsed time:  948.4849331378937\n"
          ]
        },
        {
          "output_type": "display_data",
          "data": {
            "text/plain": [
              "<Figure size 400x200 with 1 Axes>"
            ],
            "image/png": "[encoded data removed]"
          },
          "metadata": {}
        },
        {
          "output_type": "stream",
          "name": "stdout",
          "text": [
            "210\n",
            "Experiment Completed:  32\n",
            "Elapsed time:  940.6235680580139\n"
          ]
        },
        {
          "output_type": "display_data",
          "data": {
            "text/plain": [
              "<Figure size 400x200 with 1 Axes>"
            ],
            "image/png": "[encoded data removed]"
          },
          "metadata": {}
        },
        {
          "output_type": "error",
          "ename": "IndexError",
          "evalue": "list index out of range",
          "traceback": [
            "\u001b[0;31m---------------------------------------------------------------------------\u001b[0m",
            "\u001b[0;31mIndexError\u001b[0m                                Traceback (most recent call last)",
            "\u001b[0;32m<ipython-input-16-db4a2fba59ea>\u001b[0m in \u001b[0;36m<cell line: 2>\u001b[0;34m()\u001b[0m\n\u001b[1;32m    112\u001b[0m \u001b[0;34m\u001b[0m\u001b[0m\n\u001b[1;32m    113\u001b[0m         \u001b[0;31m# Problem Variables.\u001b[0m\u001b[0;34m\u001b[0m\u001b[0;34m\u001b[0m\u001b[0m\n\u001b[0;32m--> 114\u001b[0;31m         \u001b[0mproblem\u001b[0m \u001b[0;34m=\u001b[0m \u001b[0mproblem_arr\u001b[0m\u001b[0;34m[\u001b[0m\u001b[0mcurrent\u001b[0m\u001b[0;34m]\u001b[0m\u001b[0;34m\u001b[0m\u001b[0;34m\u001b[0m\u001b[0m\n\u001b[0m\u001b[1;32m    115\u001b[0m         \u001b[0minverted_flag\u001b[0m \u001b[0;34m=\u001b[0m \u001b[0minverted_flag_arr\u001b[0m\u001b[0;34m[\u001b[0m\u001b[0mcurrent\u001b[0m\u001b[0;34m]\u001b[0m\u001b[0;34m\u001b[0m\u001b[0;34m\u001b[0m\u001b[0m\n\u001b[1;32m    116\u001b[0m         \u001b[0mn_vars\u001b[0m \u001b[0;34m=\u001b[0m \u001b[0mn_vars_arr\u001b[0m\u001b[0;34m[\u001b[0m\u001b[0mcurrent\u001b[0m\u001b[0;34m]\u001b[0m\u001b[0;34m\u001b[0m\u001b[0;34m\u001b[0m\u001b[0m\n",
            "\u001b[0;31mIndexError\u001b[0m: list index out of range"
          ]
        }
      ],
      "source": [
        "seed_arr = [1]\n",
        "for seed in seed_arr:\n",
        "\n",
        "    # This is for 2 objectives.\n",
        "    n_funcs = 2\n",
        "    total_evals = 40000\n",
        "    n_final = 120\n",
        "\n",
        "    problem_arr = [\"DTLZ1\",\"DTLZ2\",\"DTLZ3\",\"DTLZ4\",\"DTLZ5\",\"DTLZ6\",\"DTLZ7\",\n",
        "                  \"DTLZ1\",\"DTLZ2\",\"DTLZ3\",\"DTLZ4\",\"DTLZ5\",\"DTLZ6\",\"DTLZ7\",\n",
        "                  \"IMOP1\",\"IMOP2\",\"IMOP3\",\n",
        "                  \"WFG1\",\"WFG2\",\"WFG3\",\"WFG4\",\"WFG5\",\"WFG6\",\"WFG7\",\"WFG8\",\"WFG9\",\n",
        "                  \"WFG1\",\"WFG2\",\"WFG3\",\"WFG4\",\"WFG5\",\"WFG6\",\"WFG7\",\"WFG8\",\"WFG9\"]\n",
        "\n",
        "    inverted_flag_arr = [False,False,False,False,False,False,False,\n",
        "                        True,True,True,True,True,True,True,\n",
        "                        False,False,False,\n",
        "                        False,False,False,False,False,False,False,False,False,\n",
        "                        True,True,True,True,True,True,True,True,True]\n",
        "\n",
        "    n_vars_arr = [6,11,11,11,11,11,21,\n",
        "                  6,11,11,11,11,11,21,\n",
        "                  10,10,10,\n",
        "                  24,24,24,24,24,24,24,24,24,\n",
        "                  24,24,24,24,24,24,24,24,24]\n",
        "\n",
        "    '''\n",
        "    # This is for 3 objectives.\n",
        "    n_funcs = 3\n",
        "    total_evals = 50000\n",
        "    n_final = 120\n",
        "\n",
        "    problem_arr = [\"DTLZ1\",\"DTLZ2\",\"DTLZ3\",\"DTLZ4\",\"DTLZ5\",\"DTLZ6\",\"DTLZ7\",\n",
        "                  \"DTLZ1\",\"DTLZ2\",\"DTLZ3\",\"DTLZ4\",\"DTLZ5\",\"DTLZ6\",\"DTLZ7\",\n",
        "                  \"IMOP4\",\"IMOP5\",\"IMOP6\",\"IMOP7\",\"IMOP8\",\n",
        "                  \"WFG1\",\"WFG2\",\"WFG3\",\"WFG4\",\"WFG5\",\"WFG6\",\"WFG7\",\"WFG8\",\"WFG9\",\n",
        "                  \"WFG1\",\"WFG2\",\"WFG3\",\"WFG4\",\"WFG5\",\"WFG6\",\"WFG7\",\"WFG8\",\"WFG9\",\n",
        "                  \"VIE1\",\"VIE2\",\"VIE3\"]\n",
        "\n",
        "    inverted_flag_arr = [False,False,False,False,False,False,False,\n",
        "                        True,True,True,True,True,True,True,\n",
        "                        False,False,False,False,False,\n",
        "                        False,False,False,False,False,False,False,False,False,\n",
        "                        True,True,True,True,True,True,True,True,True,\n",
        "                        False,False,False]\n",
        "\n",
        "    n_vars_arr = [7,12,12,12,12,12,22,\n",
        "                  7,12,12,12,12,12,22,\n",
        "                  10,10,10,10,10,\n",
        "                  26,26,26,26,26,26,26,26,26,\n",
        "                  26,26,26,26,26,26,26,26,26,\n",
        "                  2,2,2]\n",
        "    '''\n",
        "\n",
        "    '''\n",
        "    # This is for 5 objectives.\n",
        "    n_funcs = 5\n",
        "    total_evals = 70000\n",
        "    n_final = 126\n",
        "\n",
        "    problem_arr = [\"DTLZ1\",\"DTLZ2\",\"DTLZ3\",\"DTLZ4\",\"DTLZ5\",\"DTLZ6\",\"DTLZ7\",\n",
        "                  \"DTLZ1\",\"DTLZ2\",\"DTLZ3\",\"DTLZ4\",\"DTLZ5\",\"DTLZ6\",\"DTLZ7\",\n",
        "                  \"WFG1\",\"WFG2\",\"WFG3\",\"WFG4\",\"WFG5\",\"WFG6\",\"WFG7\",\"WFG8\",\"WFG9\",\n",
        "                  \"WFG1\",\"WFG2\",\"WFG3\",\"WFG4\",\"WFG5\",\"WFG6\",\"WFG7\",\"WFG8\",\"WFG9\"]\n",
        "\n",
        "    inverted_flag_arr = [False,False,False,False,False,False,False,\n",
        "                        True,True,True,True,True,True,True,\n",
        "                        False,False,False,False,False,False,False,False,False,\n",
        "                        True,True,True,True,True,True,True,True,True]\n",
        "\n",
        "    n_vars_arr = [9,14,14,14,14,14,24,\n",
        "                  9,14,14,14,14,14,24,\n",
        "                  30,30,30,30,30,30,30,30,30,\n",
        "                  30,30,30,30,30,30,30,30,30]\n",
        "    '''\n",
        "\n",
        "    '''\n",
        "    # This is for 7 objectives.\n",
        "    n_funcs = 7\n",
        "    total_evals = 90000\n",
        "    n_final = 210\n",
        "\n",
        "    problem_arr = [\"DTLZ1\",\"DTLZ2\",\"DTLZ3\",\"DTLZ4\",\"DTLZ5\",\"DTLZ6\",\"DTLZ7\",\n",
        "                  \"DTLZ1\",\"DTLZ2\",\"DTLZ3\",\"DTLZ4\",\"DTLZ5\",\"DTLZ6\",\"DTLZ7\",\n",
        "                  \"WFG1\",\"WFG2\",\"WFG3\",\"WFG4\",\"WFG5\",\"WFG6\",\"WFG7\",\"WFG8\",\"WFG9\",\n",
        "                  \"WFG1\",\"WFG2\",\"WFG3\",\"WFG4\",\"WFG5\",\"WFG6\",\"WFG7\",\"WFG8\",\"WFG9\"]\n",
        "\n",
        "    inverted_flag_arr = [False,False,False,False,False,False,False,\n",
        "                        True,True,True,True,True,True,True,\n",
        "                        False,False,False,False,False,False,False,False,False,\n",
        "                        True,True,True,True,True,True,True,True,True]\n",
        "\n",
        "    n_vars_arr = [11,16,16,16,16,16,26,\n",
        "                  11,16,16,16,16,16,26,\n",
        "                  34,34,34,34,34,34,34,34,34,\n",
        "                  34,34,34,34,34,34,34,34,34]\n",
        "    '''\n",
        "\n",
        "\n",
        "    if len(problem_arr) == len(n_vars_arr) and len(problem_arr) == len(inverted_flag_arr):\n",
        "        print('All good to start, validation complete')\n",
        "\n",
        "    total_different_experiments = len(problem_arr)\n",
        "    print('Total experiments: ', total_different_experiments)\n",
        "\n",
        "    for current in range(total_different_experiments):\n",
        "\n",
        "        current = current + 30\n",
        "\n",
        "        # Problem Variables.\n",
        "        problem = problem_arr[current]\n",
        "        inverted_flag = inverted_flag_arr[current]\n",
        "        n_vars = n_vars_arr[current]\n",
        "\n",
        "        np.random.seed(seed)\n",
        "        start_time = time.time()\n",
        "\n",
        "        k = n_final\n",
        "        np.random.seed(seed)\n",
        "        weight_vectors = SLD(k, n_funcs, 0) + 0.0001\n",
        "        k = weight_vectors.shape[0]\n",
        "        n_sols = k\n",
        "        print(n_sols)\n",
        "        epsilon = 0.5 # Influences the standard deviation, the bigger the more random.\n",
        "        partitions = 12\n",
        "\n",
        "        weight_vectors = SLD(k, n_funcs, 0) + 0.0001\n",
        "        mop_data = mop_data_func(n_vars,problem)\n",
        "        sols = initial_random_solutions(mop_data,n_sols)\n",
        "        eval_sols = evaluate_function(problem, sols, n_funcs, n_vars, inverted_flag)\n",
        "        archive = np.concatenate((sols,eval_sols), axis=1)\n",
        "\n",
        "        ideal = ideal_vector(archive[:,n_vars:n_vars+n_funcs])\n",
        "        nadir = nadir_vector(archive[:,n_vars:n_vars+n_funcs])\n",
        "\n",
        "        archive = normalize(archive,ideal,nadir,n_vars,n_funcs)\n",
        "        record = nadir\n",
        "        archive = ranking2(archive,weight_vectors,n_vars,n_funcs,ideal)\n",
        "\n",
        "        fn_evals = n_sols\n",
        "        gen = 1\n",
        "\n",
        "        file_to_save = np.empty([n_vars + n_funcs + 1])\n",
        "\n",
        "        # Stack the output at the moment to the final archive that will be uploaded.\n",
        "        output_at_the_moment = archive[:,:n_vars + n_funcs]\n",
        "        generation_array = np.zeros((output_at_the_moment.shape[0],1))\n",
        "        for i in range(output_at_the_moment.shape[0]):\n",
        "            generation_array[i] = fn_evals\n",
        "        generation_to_save = np.concatenate((output_at_the_moment, generation_array), axis=1)\n",
        "        file_to_save = np.vstack((file_to_save,generation_to_save))\n",
        "\n",
        "\n",
        "        while fn_evals < total_evals:\n",
        "            new_sols = np.empty([n_vars])\n",
        "            for solution in archive:\n",
        "                new_modified_sol = newSolution(archive,solution[:n_vars],epsilon,mop_data,n_vars)\n",
        "                new_sols = np.vstack((new_sols,new_modified_sol))\n",
        "            new_sols = np.delete(new_sols,0,0)\n",
        "            eval_new_sols = evaluate_function(problem, new_sols, n_funcs, n_vars, inverted_flag)\n",
        "            new_archive = np.concatenate((new_sols,eval_new_sols), axis=1)\n",
        "\n",
        "            ideal,nadir = update_reference_points(new_archive,ideal,nadir,n_funcs,n_vars)\n",
        "\n",
        "            super_archive = np.vstack((archive[:,:n_vars+n_funcs],new_archive))\n",
        "            super_archive = normalize(super_archive,ideal,nadir,n_vars,n_funcs)\n",
        "            super_archive = ranking2(super_archive,weight_vectors,n_vars,n_funcs,ideal)\n",
        "\n",
        "            super_archive = super_archive[np.argsort(super_archive[:,n_vars+2*n_funcs+2])] # Sort with l2 norm\n",
        "            super_archive = super_archive[np.argsort(super_archive[:,n_vars+2*n_funcs+3])] # Sort with p_utility\n",
        "            super_archive = super_archive[np.argsort(super_archive[:,n_vars+2*n_funcs+0])] # Sort with p_rank\n",
        "\n",
        "            archive = super_archive[:k,:]\n",
        "\n",
        "            fn_evals = fn_evals + n_sols\n",
        "            gen = gen + 1\n",
        "\n",
        "            if ((gen)%10) == 0:\n",
        "                # Stack the output at the moment to the final archive that will be uploaded.\n",
        "                output_at_the_moment = archive[:,:n_vars + n_funcs]\n",
        "                generation_array = np.zeros((output_at_the_moment.shape[0],1))\n",
        "                for i in range(output_at_the_moment.shape[0]):\n",
        "                    generation_array[i] = fn_evals\n",
        "                generation_to_save = np.concatenate((output_at_the_moment, generation_array), axis=1)\n",
        "                file_to_save = np.vstack((file_to_save,generation_to_save))\n",
        "\n",
        "        # Stack the output at the moment to the final archive that will be uploaded.\n",
        "        output_at_the_moment = archive[:,:n_vars + n_funcs]\n",
        "        generation_array = np.zeros((output_at_the_moment.shape[0],1))\n",
        "        for i in range(output_at_the_moment.shape[0]):\n",
        "            generation_array[i] = fn_evals\n",
        "        generation_to_save = np.concatenate((output_at_the_moment, generation_array), axis=1)\n",
        "        file_to_save = np.vstack((file_to_save,generation_to_save))\n",
        "\n",
        "        file_to_save = np.delete(file_to_save,0,0)\n",
        "        df = pd.DataFrame(file_to_save)\n",
        "        tile_of_file = problem + \"_\" + str(inverted_flag) + \"_\" + str(n_funcs) + \"_\" + str(seed) + \".csv\"\n",
        "        df.to_csv(\"/content/drive/MyDrive/iMOACOR/\" + tile_of_file)\n",
        "\n",
        "        end_time = time.time()\n",
        "        elapsed_time = end_time - start_time\n",
        "        print('Experiment Completed: ', current + 1)\n",
        "        print(\"Elapsed time: \", elapsed_time)\n",
        "\n",
        "        parallel_plot(output_at_the_moment[:,n_vars:n_vars+n_funcs], tile_of_file)"
      ],
      "id": "04fccd8c-f634-4d8a-8dc6-ff4b2c490bcb"
    }
  ],
  "metadata": {
    "accelerator": "GPU",
    "colab": {
      "provenance": []
    },
    "kernelspec": {
      "display_name": "Python 3",
      "name": "python3"
    },
    "language_info": {
      "codemirror_mode": {
        "name": "ipython",
        "version": 3
      },
      "file_extension": ".py",
      "mimetype": "text/x-python",
      "name": "python",
      "nbconvert_exporter": "python",
      "pygments_lexer": "ipython3",
      "version": "3.9.12"
    }
  },
  "nbformat": 4,
  "nbformat_minor": 5
}